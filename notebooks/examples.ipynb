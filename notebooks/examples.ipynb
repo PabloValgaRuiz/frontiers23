{
 "cells": [
  {
   "cell_type": "code",
   "execution_count": 29,
   "metadata": {},
   "outputs": [],
   "source": [
    "import numpy as np\n",
    "import pandas as pd\n",
    "import matplotlib.pyplot as plt"
   ]
  },
  {
   "cell_type": "code",
   "execution_count": 238,
   "metadata": {},
   "outputs": [],
   "source": [
    "T = 140\n",
    "POPULATION = 10000000\n",
    "\n",
    "k_active = 14\n",
    "k_passive = 4\n",
    "\n",
    "beta = 0.1\n",
    "permeability = 0.1\n",
    "\n",
    "sigma = 4\n",
    "xi = 0.1\n",
    "mu = 1/4.2\n",
    "nu = 1/5.2\n",
    "IFR = 0.01\n",
    "\n",
    "p = np.where(np.arange(0, T) < 50, 1, 0.1)\n"
   ]
  },
  {
   "cell_type": "code",
   "execution_count": 239,
   "metadata": {},
   "outputs": [],
   "source": [
    "daily_dead = np.zeros(T)\n",
    "daily_S = np.zeros(T)\n",
    "daily_I = np.zeros(T)\n",
    "daily_S_h = np.zeros(T)\n",
    "\n",
    "I = 1\n",
    "S_h = 0\n",
    "E = 0\n",
    "S = POPULATION - I\n",
    "S_TOTAL = S\n",
    "Pd = 0\n",
    "D = 0\n",
    "R = 0\n",
    "for t in range(0,T):\n",
    "    rho = I/POPULATION\n",
    "    Pactivo = 1 - (1 - beta * rho)**k_active\n",
    "    Pconfinado = 1 - (1 - beta * rho)**k_passive\n",
    "    sh = (1 - rho)**(sigma - 1)\n",
    "\n",
    "    Pcontagio = p[t] * Pactivo + (1-p[t])*(1 - sh * (1 - permeability) ) * Pconfinado\n",
    "    S_TOTAL = POPULATION - I - E - Pd - D - R\n",
    "\n",
    "    S_h = S_TOTAL * (1 - p[t]) * sh * (1 - permeability)\n",
    "    D = xi * Pd + D\n",
    "    Pd = mu * IFR * I + (1 - xi)*Pd\n",
    "    R = mu * (1 - IFR) * I + R\n",
    "    I = nu * E + (1 - mu) * I\n",
    "    E = (S_TOTAL) * Pcontagio + (1 - nu) * E\n",
    "\n",
    "    daily_dead[t] = xi * Pd\n",
    "    daily_I[t] = I\n",
    "    daily_S[t] = S_TOTAL\n",
    "    daily_S_h[t] = S_h\n",
    "\n"
   ]
  },
  {
   "cell_type": "code",
   "execution_count": 245,
   "metadata": {},
   "outputs": [
    {
     "data": {
      "image/png": "[encoded data removed]",
      "text/plain": [
       "<Figure size 432x288 with 2 Axes>"
      ]
     },
     "metadata": {
      "needs_background": "light"
     },
     "output_type": "display_data"
    }
   ],
   "source": [
    "fig,ax = plt.subplots()\n",
    "ax2 = ax.twinx()\n",
    "ax2.plot(p, color='black', alpha=0.5, label='Mobility')\n",
    "ax.plot(daily_I, color='red', label='Infected')\n",
    "ax.plot(daily_S, color='blue', label='Susceptible')\n",
    "ax.plot(daily_S_h, color='green', label='Susceptible (home)')\n",
    "\n",
    "ax.set_xlabel('Days', fontsize=14)\n",
    "ax.set_ylabel('Population', fontsize=14)\n",
    "ax2.set_ylabel('Mobility', fontsize=14)\n",
    "\n",
    "# ax.legend(fontsize=14, loc='lower right')\n",
    "\n",
    "ax.tick_params(labelsize=14)\n",
    "ax2.tick_params(labelsize=14)\n",
    "\n",
    "fig.savefig('figures/example.png', dpi=300, bbox_inches='tight')"
   ]
  },
  {
   "cell_type": "code",
   "execution_count": null,
   "metadata": {},
   "outputs": [],
   "source": []
  }
 ],
 "metadata": {
  "kernelspec": {
   "display_name": "new",
   "language": "python",
   "name": "python3"
  },
  "language_info": {
   "codemirror_mode": {
    "name": "ipython",
    "version": 3
   },
   "file_extension": ".py",
   "mimetype": "text/x-python",
   "name": "python",
   "nbconvert_exporter": "python",
   "pygments_lexer": "ipython3",
   "version": "3.9.12"
  },
  "orig_nbformat": 4
 },
 "nbformat": 4,
 "nbformat_minor": 2
}
